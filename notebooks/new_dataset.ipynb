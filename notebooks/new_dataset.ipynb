{
 "cells": [
  {
   "cell_type": "markdown",
   "metadata": {},
   "source": [
    "### Data Generation and Preprocessing"
   ]
  },
  {
   "cell_type": "code",
   "execution_count": 2,
   "metadata": {},
   "outputs": [],
   "source": [
    "import numpy as np\n",
    "import pandas as pd\n",
    "from sklearn.preprocessing import StandardScaler, OneHotEncoder\n",
    "from sklearn.compose import ColumnTransformer\n",
    "from sklearn.pipeline import Pipeline"
   ]
  },
  {
   "cell_type": "markdown",
   "metadata": {},
   "source": [
    "Step 1: Generate Synthetic Feature Data"
   ]
  },
  {
   "cell_type": "code",
   "execution_count": 3,
   "metadata": {},
   "outputs": [],
   "source": [
    "\n",
    "num_samples = 60000  # Adjust this number as needed\n",
    "\n",
    "step = np.random.randint(1, 745, num_samples)\n",
    "transaction_type = np.random.choice([\"CASH-IN\", \"CASH-OUT\", \"DEBIT\", \"PAYMENT\", \"TRANSFER\"], num_samples)\n",
    "amount = np.random.uniform(1, 10000, num_samples)\n",
    "nameOrig = np.random.choice([\"customer_A\", \"customer_B\", \"customer_C\", \"customer_D\", \"customer_E\"], num_samples)\n",
    "oldbalanceOrg = np.random.uniform(0, 5000, num_samples)\n",
    "newbalanceOrig = oldbalanceOrg - amount\n",
    "nameDest = np.random.choice([\"recipient_A\", \"recipient_B\", \"recipient_C\", \"recipient_D\", \"recipient_E\"], num_samples)\n",
    "oldbalanceDest = np.random.uniform(0, 5000, num_samples)\n",
    "newbalanceDest = oldbalanceDest + amount\n",
    "isFraud = np.random.choice([0, 1], num_samples)\n",
    "isFlaggedFraud = np.random.choice([0, 1], num_samples)\n"
   ]
  },
  {
   "cell_type": "markdown",
   "metadata": {},
   "source": [
    "Step 2: Create a DataFrame for X_new"
   ]
  },
  {
   "cell_type": "code",
   "execution_count": 4,
   "metadata": {},
   "outputs": [],
   "source": [
    "columns = ['step', 'type', 'amount', 'nameOrig', 'oldbalanceOrg', 'newbalanceOrig', \n",
    "           'nameDest', 'oldbalanceDest', 'newbalanceDest', 'isFraud', 'isFlaggedFraud']\n",
    "X_new_df = pd.DataFrame({'step': step, 'type': transaction_type, 'amount': amount,\n",
    "                         'nameOrig': nameOrig, 'oldbalanceOrg': oldbalanceOrg,\n",
    "                         'newbalanceOrig': newbalanceOrig, 'nameDest': nameDest,\n",
    "                         'oldbalanceDest': oldbalanceDest, 'newbalanceDest': newbalanceDest,\n",
    "                         'isFraud': isFraud, 'isFlaggedFraud': isFlaggedFraud})"
   ]
  },
  {
   "cell_type": "markdown",
   "metadata": {},
   "source": [
    "Step 3: Define Categorical and Numeric Columns"
   ]
  },
  {
   "cell_type": "code",
   "execution_count": 5,
   "metadata": {},
   "outputs": [],
   "source": [
    "categorical_columns = ['type']\n",
    "numeric_columns = ['step', 'amount', 'oldbalanceOrg', 'newbalanceOrig', 'oldbalanceDest', 'newbalanceDest']\n"
   ]
  },
  {
   "cell_type": "markdown",
   "metadata": {},
   "source": [
    "Step 4: Create Transformers for One-Hot Encoding and Scaling"
   ]
  },
  {
   "cell_type": "code",
   "execution_count": 6,
   "metadata": {},
   "outputs": [],
   "source": [
    "categorical_transformer = Pipeline(steps=[\n",
    "    ('onehot', OneHotEncoder(sparse=False, drop='first'))  \n",
    "])\n",
    "\n",
    "numeric_transformer = Pipeline(steps=[\n",
    "    ('scaler', StandardScaler())\n",
    "])\n"
   ]
  },
  {
   "cell_type": "markdown",
   "metadata": {},
   "source": [
    "Step 5: Apply Transformers to Columns"
   ]
  },
  {
   "cell_type": "code",
   "execution_count": 7,
   "metadata": {},
   "outputs": [],
   "source": [
    "preprocessor = ColumnTransformer(\n",
    "    transformers=[\n",
    "        ('cat', categorical_transformer, categorical_columns),\n",
    "        ('num', numeric_transformer, numeric_columns)\n",
    "    ])"
   ]
  },
  {
   "cell_type": "markdown",
   "metadata": {},
   "source": [
    "Step 6: Preprocess the Data"
   ]
  },
  {
   "cell_type": "code",
   "execution_count": null,
   "metadata": {},
   "outputs": [],
   "source": [
    "X_new_preprocessed = preprocessor.fit_transform(X_new_df)"
   ]
  },
  {
   "cell_type": "markdown",
   "metadata": {},
   "source": [
    "Step 7: Save X_new_preprocessed and y_new as .npy files"
   ]
  },
  {
   "cell_type": "code",
   "execution_count": 10,
   "metadata": {},
   "outputs": [],
   "source": [
    "np.save(\"../data/X_new.npy\", X_new_preprocessed)\n",
    "np.save(\"../data/y_new.npy\", isFraud)"
   ]
  }
 ],
 "metadata": {
  "kernelspec": {
   "display_name": "Python 3",
   "language": "python",
   "name": "python3"
  },
  "language_info": {
   "codemirror_mode": {
    "name": "ipython",
    "version": 3
   },
   "file_extension": ".py",
   "mimetype": "text/x-python",
   "name": "python",
   "nbconvert_exporter": "python",
   "pygments_lexer": "ipython3",
   "version": "3.9.0"
  },
  "orig_nbformat": 4
 },
 "nbformat": 4,
 "nbformat_minor": 2
}
